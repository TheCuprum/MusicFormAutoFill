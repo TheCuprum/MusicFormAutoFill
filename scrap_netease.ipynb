{
 "cells": [
  {
   "cell_type": "code",
   "execution_count": null,
   "metadata": {},
   "outputs": [],
   "source": [
    "import win32clipboard\n",
    "\n",
    "from selenium import webdriver\n",
    "from selenium.webdriver.remote.webdriver import WebDriver\n",
    "from selenium.webdriver.common.by import By\n",
    "from selenium.webdriver.edge.service import Service\n",
    "from webdriver_manager.microsoft import EdgeChromiumDriverManager"
   ]
  },
  {
   "cell_type": "code",
   "execution_count": null,
   "metadata": {},
   "outputs": [],
   "source": [
    "# options = webdriver.EdgeOptions()\n",
    "# options.add_experimental_option('debuggerAddress', 'localhost:9222')\n",
    "driver = webdriver.Edge(service=Service(EdgeChromiumDriverManager(version='111.0.1661.62', cache_valid_range=1000000).install()))"
   ]
  },
  {
   "cell_type": "code",
   "execution_count": null,
   "metadata": {},
   "outputs": [],
   "source": [
    "driver.get('https://music.163.com')\n",
    "\n",
    "login_button = driver.find_element(By.XPATH, '/html/body/div[1]/div[1]/div/div[1]/a')\n",
    "login_button.click()\n",
    "other_login_mode = driver.find_element(By.XPATH, '/html/body/div[7]/div/div[2]/div/div[2]/div/div/div/a')\n",
    "other_login_mode.click()\n",
    "official_terms = driver.find_element(By.CSS_SELECTOR, '#j-official-terms')\n",
    "official_terms.click()"
   ]
  },
  {
   "attachments": {},
   "cell_type": "markdown",
   "metadata": {},
   "source": [
    "### Login before executing following cells."
   ]
  },
  {
   "cell_type": "code",
   "execution_count": null,
   "metadata": {},
   "outputs": [],
   "source": [
    "SCRIPT = r'''\n",
    "if (typeof variable == typeof undefined) {\n",
    "    let contentFrame = document.getElementsByName('contentFrame')[0];\n",
    "    let contentFrameDoc = contentFrame.contentDocument || iframe.contentWindow.document;\n",
    "    let link = [];\n",
    "    let title = [];\n",
    "    let artist = [];\n",
    "    let list = [];\n",
    "    let s = '';\n",
    "}\n",
    "contentFrame = document.getElementsByName('contentFrame')[0];\n",
    "contentFrameDoc = contentFrame.contentDocument || iframe.contentWindow.document;\n",
    "link = [...contentFrameDoc.querySelectorAll(\".m-table tbody td:nth-child(2) a\")].map(function(item){return item.href});\n",
    "title = [...contentFrameDoc.querySelectorAll(\".m-table tbody td:nth-child(2) b\")].map(function(item){return item.title});\n",
    "artist = [...contentFrameDoc.querySelectorAll(\".m-table tbody td:nth-child(4) > div\")].map(function(item){return item.title});\n",
    "list = [];\n",
    "s = '';\n",
    "\n",
    "for(let i=0; i<title.length; i++){\n",
    "    let temp = title[i] + \"\\t\" + artist[i] + \"\\t\" + link[i];\n",
    "    list.push(temp);\n",
    "}\n",
    "\n",
    "console.log(\"Job done!\");\n",
    "s = list.join('\\n');'''\n",
    "\n",
    "# copy(s)"
   ]
  },
  {
   "cell_type": "code",
   "execution_count": null,
   "metadata": {},
   "outputs": [],
   "source": [
    "ret = driver.execute_cdp_cmd('Runtime.evaluate', {'expression': SCRIPT})\n",
    "try:\n",
    "    win32clipboard.OpenClipboard()\n",
    "    win32clipboard.SetClipboardData(win32clipboard.CF_UNICODETEXT, ret['result']['value'])\n",
    "except Exception as e:\n",
    "    print(e)\n",
    "finally:\n",
    "    win32clipboard.CloseClipboard()"
   ]
  },
  {
   "cell_type": "code",
   "execution_count": null,
   "metadata": {},
   "outputs": [],
   "source": [
    "driver.quit()"
   ]
  }
 ],
 "metadata": {
  "kernelspec": {
   "display_name": "MusicFormAutoFill",
   "language": "python",
   "name": "python3"
  },
  "language_info": {
   "codemirror_mode": {
    "name": "ipython",
    "version": 3
   },
   "file_extension": ".py",
   "mimetype": "text/x-python",
   "name": "python",
   "nbconvert_exporter": "python",
   "pygments_lexer": "ipython3",
   "version": "3.9.1"
  },
  "orig_nbformat": 4
 },
 "nbformat": 4,
 "nbformat_minor": 2
}
