{
 "cells": [
  {
   "cell_type": "code",
   "execution_count": null,
   "metadata": {},
   "outputs": [],
   "source": [
    "import requests\n",
    "import time\n",
    "import uuid\n",
    "import datetime\n",
    "import random\n",
    "import urllib\n",
    "\n",
    "import requests_random_user_agent\n",
    "\n",
    "from form_resource import NameProvider, MusicInfoList"
   ]
  },
  {
   "cell_type": "code",
   "execution_count": null,
   "metadata": {},
   "outputs": [],
   "source": [
    "url = \"http://yingkebao.top/web/formview/631157e575a03c5b5f4cb078\"\n",
    "# url = 'http://jsform2.com/web/formview/61357bc475a03c55d035e26e'\n",
    "\n",
    "music_list = MusicInfoList()\n",
    "name_provider = NameProvider().random_select_name(5)\n"
   ]
  },
  {
   "cell_type": "code",
   "execution_count": null,
   "metadata": {},
   "outputs": [],
   "source": [
    "selected_list = music_list.random_get(5)\n",
    "index = 0"
   ]
  },
  {
   "cell_type": "code",
   "execution_count": null,
   "metadata": {},
   "outputs": [],
   "source": [
    "selected_list = list(music_list._get_one(0) for _ in range(5))\n",
    "music_list.save()\n",
    "index = 0"
   ]
  },
  {
   "cell_type": "code",
   "execution_count": null,
   "metadata": {},
   "outputs": [],
   "source": [
    "selected_list"
   ]
  },
  {
   "cell_type": "code",
   "execution_count": null,
   "metadata": {},
   "outputs": [],
   "source": [
    "# for music_info in selected_list:\n",
    "music_info = selected_list[index]\n",
    "index +=1\n",
    "\n",
    "form_data = {\n",
    "    'F1': music_info['MUSIC'],\n",
    "    'F2': music_info['ARTIST'],\n",
    "    'F3': \"\",\n",
    "    'F4': music_info['MESSAGE'],\n",
    "    'F5': music_info['LINK'] if random.randrange(2) > 0 else '',\n",
    "    'F6': next(name_provider) if random.randrange(2) > 0 else '匿名',\n",
    "    'FRMID': \"631157e575a03c5b5f4cb078\",\n",
    "    'INITTIME': round(time.time() * 1000),\n",
    "    'SECKEY': \"\",\n",
    "    'TMOUT_number': random.randrange(30, 200)\n",
    "}\n",
    "\n",
    "proxies = urllib.request.getproxies()\n",
    "headers = {\n",
    "    'Content-Type': 'application/json; charset=UTF-8',\n",
    "    'Origin': 'http://yingkebao.top'\n",
    "}\n",
    "print(form_data)\n",
    "response = requests.post(\n",
    "    url,\n",
    "    headers=headers,\n",
    "    json=form_data)\n",
    "# proxies=proxies)\n",
    "print(response.text)\n"
   ]
  },
  {
   "cell_type": "code",
   "execution_count": null,
   "metadata": {},
   "outputs": [],
   "source": [
    "response.close()"
   ]
  }
 ],
 "metadata": {
  "kernelspec": {
   "display_name": "MusicFormAutoFill",
   "language": "python",
   "name": "python3"
  },
  "language_info": {
   "codemirror_mode": {
    "name": "ipython",
    "version": 3
   },
   "file_extension": ".py",
   "mimetype": "text/x-python",
   "name": "python",
   "nbconvert_exporter": "python",
   "pygments_lexer": "ipython3",
   "version": "3.9.1"
  },
  "orig_nbformat": 4
 },
 "nbformat": 4,
 "nbformat_minor": 2
}
