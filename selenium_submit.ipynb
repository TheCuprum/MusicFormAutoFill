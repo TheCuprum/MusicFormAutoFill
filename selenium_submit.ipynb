{
 "cells": [
  {
   "cell_type": "code",
   "execution_count": null,
   "metadata": {},
   "outputs": [],
   "source": [
    "import sys\n",
    "import time\n",
    "import random\n",
    "import traceback\n",
    "import importlib\n",
    "\n",
    "from selenium import webdriver\n",
    "from selenium.webdriver.common.by import By\n",
    "from selenium.webdriver.edge.service import Service\n",
    "from webdriver_manager.microsoft import EdgeChromiumDriverManager\n",
    "\n",
    "from form_resource import NameProvider, MusicInfoList\n",
    "import music_form\n",
    "from music_form import MusicForm"
   ]
  },
  {
   "cell_type": "code",
   "execution_count": null,
   "metadata": {},
   "outputs": [],
   "source": [
    "# driver = webdriver.Edge(service=Service(EdgeChromiumDriverManager(version='111.0.1661.62', cache_valid_range=1000000).install()))\n",
    "# driver = webdriver.Edge(service=Service(EdgeChromiumDriverManager(version='111.0.1661.62').install()))\n",
    "driver = webdriver.Edge(service=Service(EdgeChromiumDriverManager(cache_valid_range=1000000).install()))\n",
    "url = \"https://jsform.com/web/formview/631157e575a03c5b5f4cb078\"\n",
    "# url = \"http://yingkebao.top/web/formview/631157e575a03c5b5f4cb078\"\n",
    "# url = 'http://jsform2.com/web/formview/61357bc475a03c55d035e26e'"
   ]
  },
  {
   "cell_type": "code",
   "execution_count": null,
   "metadata": {},
   "outputs": [],
   "source": [
    "music_list = MusicInfoList()\n",
    "name_provider = NameProvider().random_select_name(5)"
   ]
  },
  {
   "cell_type": "code",
   "execution_count": null,
   "metadata": {},
   "outputs": [],
   "source": [
    "selected_list = music_list.random_get(25)\n",
    "index = 0"
   ]
  },
  {
   "cell_type": "code",
   "execution_count": null,
   "metadata": {},
   "outputs": [],
   "source": [
    "selected_list = list(music_list._get_one(0) for _ in range(5))\n",
    "music_list.save()\n",
    "index = 0"
   ]
  },
  {
   "cell_type": "code",
   "execution_count": null,
   "metadata": {},
   "outputs": [],
   "source": [
    "selected_list"
   ]
  },
  {
   "cell_type": "code",
   "execution_count": null,
   "metadata": {},
   "outputs": [],
   "source": [
    "driver.get(url)"
   ]
  },
  {
   "cell_type": "code",
   "execution_count": null,
   "metadata": {},
   "outputs": [],
   "source": [
    "form = driver.find_element(By.CLASS_NAME, 'fields')\n",
    "\n",
    "song_field = form.find_element(By.NAME, 'F1')\n",
    "artist_field = form.find_element(By.NAME, 'F2')\n",
    "target_field = form.find_element(By.NAME, 'F3')\n",
    "message_field = form.find_element(By.NAME, 'F4')\n",
    "comment_field = form.find_element(By.NAME, 'F5')\n",
    "name_field = form.find_element(By.NAME, 'F6')\n",
    "\n",
    "button = form.find_element(By.ID, 'btnSubmit')"
   ]
  },
  {
   "cell_type": "code",
   "execution_count": null,
   "metadata": {},
   "outputs": [],
   "source": [
    "form = MusicForm(driver, url)\n",
    "\n",
    "form.set_song('深海少女').set_artist('ゆうゆ / 初音ミク').set_comment('https://music.163.com/song?id=548610')"
   ]
  },
  {
   "cell_type": "code",
   "execution_count": null,
   "metadata": {},
   "outputs": [],
   "source": [
    "music_info = selected_list[index]\n",
    "index +=1\n",
    "\n",
    "form = MusicForm(driver, url)\n",
    "\n",
    "form.set_song(music_info['MUSIC']) \n",
    "form.set_artist(music_info['ARTIST']) \n",
    "form.set_message(music_info['MESSAGE']) \n",
    "form.set_comment(music_info['LINK'] if random.randrange(2) > 0 else '') \n",
    "form.set_name(next(name_provider) if random.randrange(2) > 0 else '匿名')\n",
    "\n",
    "# time.sleep(random.randrange(30, 200))\n",
    "\n",
    "form.submit_form(delay=random.randrange(30, 200))\n"
   ]
  },
  {
   "cell_type": "code",
   "execution_count": null,
   "metadata": {},
   "outputs": [],
   "source": [
    "form = MusicForm(driver, url)\n",
    "for index in range(len(selected_list)):\n",
    "    music_info = selected_list[index]\n",
    "    try:\n",
    "\n",
    "        form.set_song(music_info['MUSIC']) \n",
    "        form.set_artist(music_info['ARTIST'])\n",
    "        form.set_message(music_info['MESSAGE']) \n",
    "        form.set_comment(music_info['LINK'] if random.randrange(2) > 0 else '') \n",
    "        form.set_name(next(name_provider) if random.randrange(2) > 0 else '匿名')\n",
    "\n",
    "        # time.sleep(random.randrange(30, 200))\n",
    "\n",
    "        form.submit_form(delay=random.randrange(30, 200))\n",
    "        print(f'[{index}] Submitted {music_info}')\n",
    "        \n",
    "        time.sleep(((random.random() + 1.0) / 2) * 2000 - 200)\n",
    "    except Exception as e:\n",
    "        traceback.print_exc(e)\n",
    "        input(f'error occured at index={index}:')\n"
   ]
  },
  {
   "cell_type": "code",
   "execution_count": null,
   "metadata": {},
   "outputs": [],
   "source": [
    "driver.quit()"
   ]
  }
 ],
 "metadata": {
  "kernelspec": {
   "display_name": "Python 3.9.1 ('MusicFormAutoFill': venv)",
   "language": "python",
   "name": "python3"
  },
  "language_info": {
   "codemirror_mode": {
    "name": "ipython",
    "version": 3
   },
   "file_extension": ".py",
   "mimetype": "text/x-python",
   "name": "python",
   "nbconvert_exporter": "python",
   "pygments_lexer": "ipython3",
   "version": "3.9.1"
  },
  "orig_nbformat": 4,
  "vscode": {
   "interpreter": {
    "hash": "7d74631577407dbe897466d981b64ab43b2344353a7f382add74fc8e568cf4c7"
   }
  }
 },
 "nbformat": 4,
 "nbformat_minor": 2
}
