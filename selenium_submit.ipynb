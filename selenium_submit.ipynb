{
 "cells": [
  {
   "cell_type": "code",
   "execution_count": null,
   "metadata": {},
   "outputs": [],
   "source": [
    "import sys\n",
    "\n",
    "from selenium import webdriver\n",
    "from selenium.webdriver.remote.webdriver import WebDriver\n",
    "from selenium.webdriver.common.by import By\n",
    "from selenium.webdriver.edge.service import Service\n",
    "from webdriver_manager.microsoft import EdgeChromiumDriverManager"
   ]
  },
  {
   "cell_type": "code",
   "execution_count": null,
   "metadata": {},
   "outputs": [],
   "source": [
    "driver = webdriver.Edge(service=Service(EdgeChromiumDriverManager(version='111.0.1661.62', cache_valid_range=1000000).install()))"
   ]
  },
  {
   "cell_type": "code",
   "execution_count": null,
   "metadata": {},
   "outputs": [],
   "source": [
    "driver.get('http://yingkebao.top/web/formview/631157e575a03c5b5f4cb078')\n",
    "# driver.get('http://jsform2.com/web/formview/61357bc475a03c55d035e26e')"
   ]
  },
  {
   "cell_type": "code",
   "execution_count": null,
   "metadata": {},
   "outputs": [],
   "source": [
    "form = driver.find_element(By.CLASS_NAME, 'fields')\n",
    "\n",
    "song_field = form.find_element(By.NAME, 'F1')\n",
    "artist_field = form.find_element(By.NAME, 'F2')\n",
    "target_field = form.find_element(By.NAME, 'F3')\n",
    "message_field = form.find_element(By.NAME, 'F4')\n",
    "comment_field = form.find_element(By.NAME, 'F5')\n",
    "name_field = form.find_element(By.NAME, 'F6')\n",
    "\n",
    "button = form.find_element(By.ID, 'btnSubmit')"
   ]
  },
  {
   "cell_type": "code",
   "execution_count": null,
   "metadata": {},
   "outputs": [],
   "source": [
    "class MusicForm():\n",
    "    DEFAULT_INPUT = {\n",
    "        'song': '',\n",
    "        'artist': '',\n",
    "        'target': '',\n",
    "        'message': '',\n",
    "        'comment': '',\n",
    "        'name': ''\n",
    "    }\n",
    "    def __init__(self, driver: WebDriver, refresh_url: str):\n",
    "        self.url = refresh_url\n",
    "        self.__driver = driver\n",
    "        self.__driver.implicitly_wait(3)\n",
    "        self.refresh_element()\n",
    "        self.reset_field()\n",
    "\n",
    "    def refresh_element(self):\n",
    "        self.__driver.get(self.url)\n",
    "        self.__form = self.__driver.find_element(By.CLASS_NAME, 'fields')\n",
    "        self._song_field = self.__form.find_element(By.NAME, 'F1')\n",
    "        self._artist_field = self.__form.find_element(By.NAME, 'F2')\n",
    "        self._target_field = self.__form.find_element(By.NAME, 'F3')\n",
    "        self._message_field = self.__form.find_element(By.NAME, 'F4')\n",
    "        self._comment_field = self.__form.find_element(By.NAME, 'F5')\n",
    "        self._name_field = self.__form.find_element(By.NAME, 'F6')\n",
    "        self._submit_button = self.__form.find_element(By.ID, 'btnSubmit')\n",
    "\n",
    "    def reset_field(self):\n",
    "        self.song = ''\n",
    "        self.artist = ''\n",
    "        self.target = ''\n",
    "        self.message = ''\n",
    "        self.comment = ''\n",
    "        self.name = ''\n",
    "\n",
    "    def set_song(self, name: str):\n",
    "        self.song = name\n",
    "        return self\n",
    "\n",
    "    def set_artist(self, name: str):\n",
    "        self.artist = name\n",
    "        return self\n",
    "\n",
    "    def set_target(self, name: str):\n",
    "        self.target = name\n",
    "        return self\n",
    "\n",
    "    def set_message(self, msg: str):\n",
    "        self.message = msg\n",
    "        return self\n",
    "\n",
    "    def set_comment(self, comment: str):\n",
    "        self.comment = comment\n",
    "        return self\n",
    "\n",
    "    def set_name(self, name:str = '匿名'):\n",
    "        self.name = name\n",
    "        return self\n",
    "\n",
    "    def submit_form(self, reset: bool = False):\n",
    "        if self.song == '' and self.artist == '':\n",
    "            print('Required field not set: song and artist', file=sys.stderr)\n",
    "            return\n",
    "        self._song_field.clear()\n",
    "        self._artist_field.clear()\n",
    "        self._target_field.clear()\n",
    "        self._message_field.clear()\n",
    "        self._comment_field.clear()\n",
    "        self._name_field.clear()\n",
    "\n",
    "        self._song_field.send_keys(self.song)\n",
    "        self._artist_field.send_keys(self.artist)\n",
    "        self._target_field.send_keys(self.target)\n",
    "        self._message_field.send_keys(self.message)\n",
    "        self._comment_field.send_keys(self.comment)\n",
    "        self._name_field.send_keys(self.name)\n",
    "\n",
    "        self._submit_button.click()\n",
    "        if reset:\n",
    "            self.reset_field()\n",
    "        self.refresh_element()"
   ]
  },
  {
   "cell_type": "code",
   "execution_count": null,
   "metadata": {},
   "outputs": [],
   "source": [
    "form = MusicForm(driver, \"http://yingkebao.top/web/formview/631157e575a03c5b5f4cb078\")\n",
    "# form = MusicForm(driver, 'http://jsform2.com/web/formview/61357bc475a03c55d035e26e')\n",
    "\n",
    "form.set_song('深海少女').set_artist('ゆうゆ / 初音ミク').set_comment('https://music.163.com/song?id=548610')"
   ]
  },
  {
   "cell_type": "code",
   "execution_count": null,
   "metadata": {},
   "outputs": [],
   "source": [
    "form.submit_form()"
   ]
  },
  {
   "cell_type": "code",
   "execution_count": null,
   "metadata": {},
   "outputs": [],
   "source": [
    "driver.quit()"
   ]
  }
 ],
 "metadata": {
  "kernelspec": {
   "display_name": "Python 3.9.1 ('MusicFormAutoFill': venv)",
   "language": "python",
   "name": "python3"
  },
  "language_info": {
   "codemirror_mode": {
    "name": "ipython",
    "version": 3
   },
   "file_extension": ".py",
   "mimetype": "text/x-python",
   "name": "python",
   "nbconvert_exporter": "python",
   "pygments_lexer": "ipython3",
   "version": "3.9.1"
  },
  "orig_nbformat": 4,
  "vscode": {
   "interpreter": {
    "hash": "7d74631577407dbe897466d981b64ab43b2344353a7f382add74fc8e568cf4c7"
   }
  }
 },
 "nbformat": 4,
 "nbformat_minor": 2
}
